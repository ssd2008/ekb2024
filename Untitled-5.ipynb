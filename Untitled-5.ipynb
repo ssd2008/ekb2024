{
 "cells": [
  {
   "cell_type": "code",
   "execution_count": 73,
   "metadata": {},
   "outputs": [],
   "source": [
    "import pandas as pd\n",
    "import seaborn as sns\n",
    "import matplotlib.pyplot as plt\n",
    "import numpy as np\n",
    "\n",
    "import statsmodels.api as sm\n",
    "from statsmodels.regression.linear_model import OLS"
   ]
  },
  {
   "cell_type": "code",
   "execution_count": 74,
   "metadata": {},
   "outputs": [
    {
     "data": {
      "text/html": [
       "<div>\n",
       "<style scoped>\n",
       "    .dataframe tbody tr th:only-of-type {\n",
       "        vertical-align: middle;\n",
       "    }\n",
       "\n",
       "    .dataframe tbody tr th {\n",
       "        vertical-align: top;\n",
       "    }\n",
       "\n",
       "    .dataframe thead th {\n",
       "        text-align: right;\n",
       "    }\n",
       "</style>\n",
       "<table border=\"1\" class=\"dataframe\">\n",
       "  <thead>\n",
       "    <tr style=\"text-align: right;\">\n",
       "      <th></th>\n",
       "      <th>policy_rk</th>\n",
       "      <th>coverage</th>\n",
       "      <th>repair_option</th>\n",
       "      <th>region</th>\n",
       "      <th>auto_make</th>\n",
       "      <th>auto_model</th>\n",
       "      <th>insurant_gender_cd</th>\n",
       "      <th>total_premium_amt</th>\n",
       "      <th>paid_flg</th>\n",
       "      <th>auto_cost</th>\n",
       "      <th>...</th>\n",
       "      <th>expected_loss_amt</th>\n",
       "      <th>transition_flg</th>\n",
       "      <th>premium_transition_amt</th>\n",
       "      <th>renewed_issue_flg</th>\n",
       "      <th>renewed_paid_flg</th>\n",
       "      <th>k</th>\n",
       "      <th>age_of_car</th>\n",
       "      <th>new_and_credit</th>\n",
       "      <th>new_or_credit</th>\n",
       "      <th>new_credit</th>\n",
       "    </tr>\n",
       "  </thead>\n",
       "  <tbody>\n",
       "    <tr>\n",
       "      <th>0</th>\n",
       "      <td>283363056</td>\n",
       "      <td>Полное КАСКО</td>\n",
       "      <td>Ремонт на СТОА официального дилера</td>\n",
       "      <td>Иркутская область</td>\n",
       "      <td>Mazda</td>\n",
       "      <td>Mazda CX-9</td>\n",
       "      <td>M</td>\n",
       "      <td>787323.60</td>\n",
       "      <td>1</td>\n",
       "      <td>2340000.0</td>\n",
       "      <td>...</td>\n",
       "      <td>0.000</td>\n",
       "      <td>0.0</td>\n",
       "      <td>0.0</td>\n",
       "      <td>0</td>\n",
       "      <td>0</td>\n",
       "      <td>2.972094</td>\n",
       "      <td>4.0</td>\n",
       "      <td>0.0</td>\n",
       "      <td>0.0</td>\n",
       "      <td>0.0</td>\n",
       "    </tr>\n",
       "    <tr>\n",
       "      <th>1</th>\n",
       "      <td>283392099</td>\n",
       "      <td>Полное КАСКО</td>\n",
       "      <td>Ремонт на СТОА официального дилера</td>\n",
       "      <td>Москва</td>\n",
       "      <td>Subaru</td>\n",
       "      <td>Subaru Legacy</td>\n",
       "      <td>M</td>\n",
       "      <td>33526.08</td>\n",
       "      <td>1</td>\n",
       "      <td>1765800.0</td>\n",
       "      <td>...</td>\n",
       "      <td>0.000</td>\n",
       "      <td>0.0</td>\n",
       "      <td>0.0</td>\n",
       "      <td>1</td>\n",
       "      <td>1</td>\n",
       "      <td>52.669444</td>\n",
       "      <td>3.0</td>\n",
       "      <td>0.0</td>\n",
       "      <td>0.0</td>\n",
       "      <td>0.0</td>\n",
       "    </tr>\n",
       "    <tr>\n",
       "      <th>2</th>\n",
       "      <td>283592373</td>\n",
       "      <td>Полное КАСКО</td>\n",
       "      <td>Ремонт на СТОА официального дилера</td>\n",
       "      <td>Москва</td>\n",
       "      <td>Nissan</td>\n",
       "      <td>Nissan X-Trail</td>\n",
       "      <td>M</td>\n",
       "      <td>540900.00</td>\n",
       "      <td>0</td>\n",
       "      <td>2200000.0</td>\n",
       "      <td>...</td>\n",
       "      <td>175635.000</td>\n",
       "      <td>0.0</td>\n",
       "      <td>0.0</td>\n",
       "      <td>0</td>\n",
       "      <td>0</td>\n",
       "      <td>4.067295</td>\n",
       "      <td>1.0</td>\n",
       "      <td>0.0</td>\n",
       "      <td>1.0</td>\n",
       "      <td>1.0</td>\n",
       "    </tr>\n",
       "    <tr>\n",
       "      <th>3</th>\n",
       "      <td>283594449</td>\n",
       "      <td>Полное КАСКО</td>\n",
       "      <td>Ремонт на СТОА официального дилера</td>\n",
       "      <td>Москва</td>\n",
       "      <td>Mini (BMW)</td>\n",
       "      <td>Mini (BMW) Countryman</td>\n",
       "      <td>F</td>\n",
       "      <td>374400.00</td>\n",
       "      <td>0</td>\n",
       "      <td>2325000.0</td>\n",
       "      <td>...</td>\n",
       "      <td>124295.265</td>\n",
       "      <td>1.0</td>\n",
       "      <td>626679.0</td>\n",
       "      <td>0</td>\n",
       "      <td>0</td>\n",
       "      <td>6.209936</td>\n",
       "      <td>2.0</td>\n",
       "      <td>0.0</td>\n",
       "      <td>0.0</td>\n",
       "      <td>0.0</td>\n",
       "    </tr>\n",
       "    <tr>\n",
       "      <th>4</th>\n",
       "      <td>283594911</td>\n",
       "      <td>Полное КАСКО</td>\n",
       "      <td>Ремонт на СТОА по направлению страховщика</td>\n",
       "      <td>Санкт-Петербург</td>\n",
       "      <td>Renault</td>\n",
       "      <td>Renault Kaptur</td>\n",
       "      <td>F</td>\n",
       "      <td>231300.00</td>\n",
       "      <td>1</td>\n",
       "      <td>1390000.0</td>\n",
       "      <td>...</td>\n",
       "      <td>124247.160</td>\n",
       "      <td>0.0</td>\n",
       "      <td>0.0</td>\n",
       "      <td>0</td>\n",
       "      <td>0</td>\n",
       "      <td>6.009511</td>\n",
       "      <td>4.0</td>\n",
       "      <td>0.0</td>\n",
       "      <td>0.0</td>\n",
       "      <td>0.0</td>\n",
       "    </tr>\n",
       "  </tbody>\n",
       "</table>\n",
       "<p>5 rows × 28 columns</p>\n",
       "</div>"
      ],
      "text/plain": [
       "   policy_rk      coverage                              repair_option  \\\n",
       "0  283363056  Полное КАСКО         Ремонт на СТОА официального дилера   \n",
       "1  283392099  Полное КАСКО         Ремонт на СТОА официального дилера   \n",
       "2  283592373  Полное КАСКО         Ремонт на СТОА официального дилера   \n",
       "3  283594449  Полное КАСКО         Ремонт на СТОА официального дилера   \n",
       "4  283594911  Полное КАСКО  Ремонт на СТОА по направлению страховщика   \n",
       "\n",
       "              region   auto_make             auto_model insurant_gender_cd  \\\n",
       "0  Иркутская область       Mazda             Mazda CX-9                  M   \n",
       "1             Москва      Subaru          Subaru Legacy                  M   \n",
       "2             Москва      Nissan         Nissan X-Trail                  M   \n",
       "3             Москва  Mini (BMW)  Mini (BMW) Countryman                  F   \n",
       "4    Санкт-Петербург     Renault         Renault Kaptur                  F   \n",
       "\n",
       "   total_premium_amt  paid_flg  auto_cost  ...  expected_loss_amt  \\\n",
       "0          787323.60         1  2340000.0  ...              0.000   \n",
       "1           33526.08         1  1765800.0  ...              0.000   \n",
       "2          540900.00         0  2200000.0  ...         175635.000   \n",
       "3          374400.00         0  2325000.0  ...         124295.265   \n",
       "4          231300.00         1  1390000.0  ...         124247.160   \n",
       "\n",
       "   transition_flg  premium_transition_amt  renewed_issue_flg  \\\n",
       "0             0.0                     0.0                  0   \n",
       "1             0.0                     0.0                  1   \n",
       "2             0.0                     0.0                  0   \n",
       "3             1.0                626679.0                  0   \n",
       "4             0.0                     0.0                  0   \n",
       "\n",
       "   renewed_paid_flg          k  age_of_car  new_and_credit  new_or_credit  \\\n",
       "0                 0   2.972094         4.0             0.0            0.0   \n",
       "1                 1  52.669444         3.0             0.0            0.0   \n",
       "2                 0   4.067295         1.0             0.0            1.0   \n",
       "3                 0   6.209936         2.0             0.0            0.0   \n",
       "4                 0   6.009511         4.0             0.0            0.0   \n",
       "\n",
       "   new_credit  \n",
       "0         0.0  \n",
       "1         0.0  \n",
       "2         1.0  \n",
       "3         0.0  \n",
       "4         0.0  \n",
       "\n",
       "[5 rows x 28 columns]"
      ]
     },
     "execution_count": 74,
     "metadata": {},
     "output_type": "execute_result"
    }
   ],
   "source": [
    "df = pd.read_csv(\"data_grouped_filtered.csv\")\n",
    "df.head()"
   ]
  },
  {
   "cell_type": "code",
   "execution_count": 75,
   "metadata": {},
   "outputs": [],
   "source": [
    "df[\"is_moscow\"] = df[\"region\"] == \"Москва\""
   ]
  },
  {
   "cell_type": "code",
   "execution_count": 76,
   "metadata": {},
   "outputs": [],
   "source": [
    "Xy = df[[\"vehicle_credit_flg\", \"vehicle_new_flg\", \"is_moscow\", \"paid_flg\"]]\n",
    "# Xy = Xy.dropna()"
   ]
  },
  {
   "cell_type": "code",
   "execution_count": 77,
   "metadata": {},
   "outputs": [
    {
     "data": {
      "text/plain": [
       "vehicle_credit_flg    False\n",
       "vehicle_new_flg       False\n",
       "is_moscow             False\n",
       "paid_flg              False\n",
       "dtype: bool"
      ]
     },
     "execution_count": 77,
     "metadata": {},
     "output_type": "execute_result"
    }
   ],
   "source": [
    "Xy.isna().any()"
   ]
  },
  {
   "cell_type": "code",
   "execution_count": 78,
   "metadata": {},
   "outputs": [
    {
     "name": "stderr",
     "output_type": "stream",
     "text": [
      "C:\\Users\\honor\\AppData\\Local\\Temp\\ipykernel_16632\\3683872441.py:1: SettingWithCopyWarning: \n",
      "A value is trying to be set on a copy of a slice from a DataFrame.\n",
      "Try using .loc[row_indexer,col_indexer] = value instead\n",
      "\n",
      "See the caveats in the documentation: https://pandas.pydata.org/pandas-docs/stable/user_guide/indexing.html#returning-a-view-versus-a-copy\n",
      "  Xy[\"vehicle_credit_flg\"] = Xy[\"vehicle_credit_flg\"].astype(float)\n",
      "C:\\Users\\honor\\AppData\\Local\\Temp\\ipykernel_16632\\3683872441.py:2: SettingWithCopyWarning: \n",
      "A value is trying to be set on a copy of a slice from a DataFrame.\n",
      "Try using .loc[row_indexer,col_indexer] = value instead\n",
      "\n",
      "See the caveats in the documentation: https://pandas.pydata.org/pandas-docs/stable/user_guide/indexing.html#returning-a-view-versus-a-copy\n",
      "  Xy[\"vehicle_new_flg\"] = Xy[\"vehicle_new_flg\"].astype(float)\n",
      "C:\\Users\\honor\\AppData\\Local\\Temp\\ipykernel_16632\\3683872441.py:3: SettingWithCopyWarning: \n",
      "A value is trying to be set on a copy of a slice from a DataFrame.\n",
      "Try using .loc[row_indexer,col_indexer] = value instead\n",
      "\n",
      "See the caveats in the documentation: https://pandas.pydata.org/pandas-docs/stable/user_guide/indexing.html#returning-a-view-versus-a-copy\n",
      "  Xy[\"is_moscow\"] = Xy[\"is_moscow\"].astype(float)\n",
      "C:\\Users\\honor\\AppData\\Local\\Temp\\ipykernel_16632\\3683872441.py:4: SettingWithCopyWarning: \n",
      "A value is trying to be set on a copy of a slice from a DataFrame.\n",
      "Try using .loc[row_indexer,col_indexer] = value instead\n",
      "\n",
      "See the caveats in the documentation: https://pandas.pydata.org/pandas-docs/stable/user_guide/indexing.html#returning-a-view-versus-a-copy\n",
      "  Xy[\"paid_flg\"] = Xy[\"paid_flg\"].astype(float)\n"
     ]
    }
   ],
   "source": [
    "Xy[\"vehicle_credit_flg\"] = Xy[\"vehicle_credit_flg\"].astype(float)\n",
    "Xy[\"vehicle_new_flg\"] = Xy[\"vehicle_new_flg\"].astype(float)\n",
    "Xy[\"is_moscow\"] = Xy[\"is_moscow\"].astype(float)\n",
    "Xy[\"paid_flg\"] = Xy[\"paid_flg\"].astype(float)"
   ]
  },
  {
   "cell_type": "code",
   "execution_count": 79,
   "metadata": {},
   "outputs": [
    {
     "data": {
      "text/plain": [
       "vehicle_new_flg\n",
       "0.0    20580\n",
       "1.0     2395\n",
       "Name: count, dtype: int64"
      ]
     },
     "execution_count": 79,
     "metadata": {},
     "output_type": "execute_result"
    }
   ],
   "source": [
    "Xy[\"vehicle_new_flg\"].value_counts()"
   ]
  },
  {
   "cell_type": "code",
   "execution_count": 80,
   "metadata": {},
   "outputs": [
    {
     "data": {
      "text/plain": [
       "vehicle_credit_flg    float64\n",
       "vehicle_new_flg       float64\n",
       "is_moscow             float64\n",
       "paid_flg              float64\n",
       "dtype: object"
      ]
     },
     "execution_count": 80,
     "metadata": {},
     "output_type": "execute_result"
    }
   ],
   "source": [
    "Xy.dtypes"
   ]
  },
  {
   "cell_type": "code",
   "execution_count": 81,
   "metadata": {},
   "outputs": [],
   "source": [
    "y = Xy[\"paid_flg\"]\n",
    "X = Xy.drop(\"paid_flg\", axis=1)\n",
    "\n",
    "X = sm.add_constant(X, prepend=False)"
   ]
  },
  {
   "cell_type": "code",
   "execution_count": 82,
   "metadata": {},
   "outputs": [
    {
     "data": {
      "text/html": [
       "<div>\n",
       "<style scoped>\n",
       "    .dataframe tbody tr th:only-of-type {\n",
       "        vertical-align: middle;\n",
       "    }\n",
       "\n",
       "    .dataframe tbody tr th {\n",
       "        vertical-align: top;\n",
       "    }\n",
       "\n",
       "    .dataframe thead th {\n",
       "        text-align: right;\n",
       "    }\n",
       "</style>\n",
       "<table border=\"1\" class=\"dataframe\">\n",
       "  <thead>\n",
       "    <tr style=\"text-align: right;\">\n",
       "      <th></th>\n",
       "      <th>vehicle_credit_flg</th>\n",
       "      <th>vehicle_new_flg</th>\n",
       "      <th>is_moscow</th>\n",
       "      <th>const</th>\n",
       "    </tr>\n",
       "  </thead>\n",
       "  <tbody>\n",
       "    <tr>\n",
       "      <th>0</th>\n",
       "      <td>0.0</td>\n",
       "      <td>0.0</td>\n",
       "      <td>0.0</td>\n",
       "      <td>1.0</td>\n",
       "    </tr>\n",
       "    <tr>\n",
       "      <th>1</th>\n",
       "      <td>0.0</td>\n",
       "      <td>0.0</td>\n",
       "      <td>1.0</td>\n",
       "      <td>1.0</td>\n",
       "    </tr>\n",
       "    <tr>\n",
       "      <th>2</th>\n",
       "      <td>0.0</td>\n",
       "      <td>1.0</td>\n",
       "      <td>1.0</td>\n",
       "      <td>1.0</td>\n",
       "    </tr>\n",
       "    <tr>\n",
       "      <th>3</th>\n",
       "      <td>0.0</td>\n",
       "      <td>0.0</td>\n",
       "      <td>1.0</td>\n",
       "      <td>1.0</td>\n",
       "    </tr>\n",
       "    <tr>\n",
       "      <th>4</th>\n",
       "      <td>0.0</td>\n",
       "      <td>0.0</td>\n",
       "      <td>0.0</td>\n",
       "      <td>1.0</td>\n",
       "    </tr>\n",
       "    <tr>\n",
       "      <th>...</th>\n",
       "      <td>...</td>\n",
       "      <td>...</td>\n",
       "      <td>...</td>\n",
       "      <td>...</td>\n",
       "    </tr>\n",
       "    <tr>\n",
       "      <th>22970</th>\n",
       "      <td>0.0</td>\n",
       "      <td>0.0</td>\n",
       "      <td>1.0</td>\n",
       "      <td>1.0</td>\n",
       "    </tr>\n",
       "    <tr>\n",
       "      <th>22971</th>\n",
       "      <td>1.0</td>\n",
       "      <td>0.0</td>\n",
       "      <td>0.0</td>\n",
       "      <td>1.0</td>\n",
       "    </tr>\n",
       "    <tr>\n",
       "      <th>22972</th>\n",
       "      <td>1.0</td>\n",
       "      <td>0.0</td>\n",
       "      <td>0.0</td>\n",
       "      <td>1.0</td>\n",
       "    </tr>\n",
       "    <tr>\n",
       "      <th>22973</th>\n",
       "      <td>1.0</td>\n",
       "      <td>0.0</td>\n",
       "      <td>0.0</td>\n",
       "      <td>1.0</td>\n",
       "    </tr>\n",
       "    <tr>\n",
       "      <th>22974</th>\n",
       "      <td>0.0</td>\n",
       "      <td>0.0</td>\n",
       "      <td>1.0</td>\n",
       "      <td>1.0</td>\n",
       "    </tr>\n",
       "  </tbody>\n",
       "</table>\n",
       "<p>22975 rows × 4 columns</p>\n",
       "</div>"
      ],
      "text/plain": [
       "       vehicle_credit_flg  vehicle_new_flg  is_moscow  const\n",
       "0                     0.0              0.0        0.0    1.0\n",
       "1                     0.0              0.0        1.0    1.0\n",
       "2                     0.0              1.0        1.0    1.0\n",
       "3                     0.0              0.0        1.0    1.0\n",
       "4                     0.0              0.0        0.0    1.0\n",
       "...                   ...              ...        ...    ...\n",
       "22970                 0.0              0.0        1.0    1.0\n",
       "22971                 1.0              0.0        0.0    1.0\n",
       "22972                 1.0              0.0        0.0    1.0\n",
       "22973                 1.0              0.0        0.0    1.0\n",
       "22974                 0.0              0.0        1.0    1.0\n",
       "\n",
       "[22975 rows x 4 columns]"
      ]
     },
     "execution_count": 82,
     "metadata": {},
     "output_type": "execute_result"
    }
   ],
   "source": [
    "X"
   ]
  },
  {
   "cell_type": "code",
   "execution_count": 92,
   "metadata": {},
   "outputs": [],
   "source": [
    "from sklearn.model_selection import train_test_split, cross_val_score"
   ]
  },
  {
   "cell_type": "code",
   "execution_count": 89,
   "metadata": {},
   "outputs": [
    {
     "data": {
      "text/plain": [
       "(18380, 4595)"
      ]
     },
     "execution_count": 89,
     "metadata": {},
     "output_type": "execute_result"
    }
   ],
   "source": [
    "X_train, X_test, y_train, y_test = train_test_split(X, y, test_size=0.2, random_state=42)\n",
    "len(X_train), len(X_test)"
   ]
  },
  {
   "cell_type": "code",
   "execution_count": 84,
   "metadata": {},
   "outputs": [],
   "source": [
    "# model = OLS(np.asarray(y), np.asarray(X))\n",
    "# res = model.fit()\n",
    "# res.summary()"
   ]
  },
  {
   "cell_type": "code",
   "execution_count": 90,
   "metadata": {},
   "outputs": [
    {
     "name": "stdout",
     "output_type": "stream",
     "text": [
      "Optimization terminated successfully.\n",
      "         Current function value: 0.588639\n",
      "         Iterations 5\n"
     ]
    },
    {
     "data": {
      "text/html": [
       "<table class=\"simpletable\">\n",
       "<caption>Logit Regression Results</caption>\n",
       "<tr>\n",
       "  <th>Dep. Variable:</th>           <td>y</td>        <th>  No. Observations:  </th>  <td> 18380</td>  \n",
       "</tr>\n",
       "<tr>\n",
       "  <th>Model:</th>                 <td>Logit</td>      <th>  Df Residuals:      </th>  <td> 18376</td>  \n",
       "</tr>\n",
       "<tr>\n",
       "  <th>Method:</th>                 <td>MLE</td>       <th>  Df Model:          </th>  <td>     3</td>  \n",
       "</tr>\n",
       "<tr>\n",
       "  <th>Date:</th>            <td>Sun, 08 Sep 2024</td> <th>  Pseudo R-squ.:     </th>  <td>0.01040</td> \n",
       "</tr>\n",
       "<tr>\n",
       "  <th>Time:</th>                <td>15:26:06</td>     <th>  Log-Likelihood:    </th> <td> -10819.</td> \n",
       "</tr>\n",
       "<tr>\n",
       "  <th>converged:</th>             <td>True</td>       <th>  LL-Null:           </th> <td> -10933.</td> \n",
       "</tr>\n",
       "<tr>\n",
       "  <th>Covariance Type:</th>     <td>nonrobust</td>    <th>  LLR p-value:       </th> <td>5.153e-49</td>\n",
       "</tr>\n",
       "</table>\n",
       "<table class=\"simpletable\">\n",
       "<tr>\n",
       "    <td></td>       <th>coef</th>     <th>std err</th>      <th>z</th>      <th>P>|z|</th>  <th>[0.025</th>    <th>0.975]</th>  \n",
       "</tr>\n",
       "<tr>\n",
       "  <th>x1</th>    <td>    0.2671</td> <td>    0.034</td> <td>    7.820</td> <td> 0.000</td> <td>    0.200</td> <td>    0.334</td>\n",
       "</tr>\n",
       "<tr>\n",
       "  <th>x2</th>    <td>    0.5767</td> <td>    0.051</td> <td>   11.369</td> <td> 0.000</td> <td>    0.477</td> <td>    0.676</td>\n",
       "</tr>\n",
       "<tr>\n",
       "  <th>x3</th>    <td>   -0.0848</td> <td>    0.033</td> <td>   -2.534</td> <td> 0.011</td> <td>   -0.150</td> <td>   -0.019</td>\n",
       "</tr>\n",
       "<tr>\n",
       "  <th>const</th> <td>   -1.0626</td> <td>    0.029</td> <td>  -36.633</td> <td> 0.000</td> <td>   -1.119</td> <td>   -1.006</td>\n",
       "</tr>\n",
       "</table>"
      ],
      "text/latex": [
       "\\begin{center}\n",
       "\\begin{tabular}{lclc}\n",
       "\\toprule\n",
       "\\textbf{Dep. Variable:}   &        y         & \\textbf{  No. Observations:  } &    18380    \\\\\n",
       "\\textbf{Model:}           &      Logit       & \\textbf{  Df Residuals:      } &    18376    \\\\\n",
       "\\textbf{Method:}          &       MLE        & \\textbf{  Df Model:          } &        3    \\\\\n",
       "\\textbf{Date:}            & Sun, 08 Sep 2024 & \\textbf{  Pseudo R-squ.:     } &  0.01040    \\\\\n",
       "\\textbf{Time:}            &     15:26:06     & \\textbf{  Log-Likelihood:    } &   -10819.   \\\\\n",
       "\\textbf{converged:}       &       True       & \\textbf{  LL-Null:           } &   -10933.   \\\\\n",
       "\\textbf{Covariance Type:} &    nonrobust     & \\textbf{  LLR p-value:       } & 5.153e-49   \\\\\n",
       "\\bottomrule\n",
       "\\end{tabular}\n",
       "\\begin{tabular}{lcccccc}\n",
       "               & \\textbf{coef} & \\textbf{std err} & \\textbf{z} & \\textbf{P$> |$z$|$} & \\textbf{[0.025} & \\textbf{0.975]}  \\\\\n",
       "\\midrule\n",
       "\\textbf{x1}    &       0.2671  &        0.034     &     7.820  &         0.000        &        0.200    &        0.334     \\\\\n",
       "\\textbf{x2}    &       0.5767  &        0.051     &    11.369  &         0.000        &        0.477    &        0.676     \\\\\n",
       "\\textbf{x3}    &      -0.0848  &        0.033     &    -2.534  &         0.011        &       -0.150    &       -0.019     \\\\\n",
       "\\textbf{const} &      -1.0626  &        0.029     &   -36.633  &         0.000        &       -1.119    &       -1.006     \\\\\n",
       "\\bottomrule\n",
       "\\end{tabular}\n",
       "%\\caption{Logit Regression Results}\n",
       "\\end{center}"
      ],
      "text/plain": [
       "<class 'statsmodels.iolib.summary.Summary'>\n",
       "\"\"\"\n",
       "                           Logit Regression Results                           \n",
       "==============================================================================\n",
       "Dep. Variable:                      y   No. Observations:                18380\n",
       "Model:                          Logit   Df Residuals:                    18376\n",
       "Method:                           MLE   Df Model:                            3\n",
       "Date:                Sun, 08 Sep 2024   Pseudo R-squ.:                 0.01040\n",
       "Time:                        15:26:06   Log-Likelihood:                -10819.\n",
       "converged:                       True   LL-Null:                       -10933.\n",
       "Covariance Type:            nonrobust   LLR p-value:                 5.153e-49\n",
       "==============================================================================\n",
       "                 coef    std err          z      P>|z|      [0.025      0.975]\n",
       "------------------------------------------------------------------------------\n",
       "x1             0.2671      0.034      7.820      0.000       0.200       0.334\n",
       "x2             0.5767      0.051     11.369      0.000       0.477       0.676\n",
       "x3            -0.0848      0.033     -2.534      0.011      -0.150      -0.019\n",
       "const         -1.0626      0.029    -36.633      0.000      -1.119      -1.006\n",
       "==============================================================================\n",
       "\"\"\""
      ]
     },
     "execution_count": 90,
     "metadata": {},
     "output_type": "execute_result"
    }
   ],
   "source": [
    "logreg = sm.Logit(np.array(y_train), np.array(X_train))\n",
    "res = logreg.fit()\n",
    "res.summary()"
   ]
  },
  {
   "cell_type": "markdown",
   "metadata": {},
   "source": [
    "в statsmodels нет кросс-валидации, поэтому пришлось учить такую же модель, но в sklearn"
   ]
  },
  {
   "cell_type": "code",
   "execution_count": 94,
   "metadata": {},
   "outputs": [],
   "source": [
    "from sklearn.linear_model import LogisticRegression"
   ]
  },
  {
   "cell_type": "code",
   "execution_count": 95,
   "metadata": {},
   "outputs": [],
   "source": [
    "model = LogisticRegression()"
   ]
  },
  {
   "cell_type": "code",
   "execution_count": 96,
   "metadata": {},
   "outputs": [
    {
     "data": {
      "text/html": [
       "<style>#sk-container-id-1 {color: black;}#sk-container-id-1 pre{padding: 0;}#sk-container-id-1 div.sk-toggleable {background-color: white;}#sk-container-id-1 label.sk-toggleable__label {cursor: pointer;display: block;width: 100%;margin-bottom: 0;padding: 0.3em;box-sizing: border-box;text-align: center;}#sk-container-id-1 label.sk-toggleable__label-arrow:before {content: \"▸\";float: left;margin-right: 0.25em;color: #696969;}#sk-container-id-1 label.sk-toggleable__label-arrow:hover:before {color: black;}#sk-container-id-1 div.sk-estimator:hover label.sk-toggleable__label-arrow:before {color: black;}#sk-container-id-1 div.sk-toggleable__content {max-height: 0;max-width: 0;overflow: hidden;text-align: left;background-color: #f0f8ff;}#sk-container-id-1 div.sk-toggleable__content pre {margin: 0.2em;color: black;border-radius: 0.25em;background-color: #f0f8ff;}#sk-container-id-1 input.sk-toggleable__control:checked~div.sk-toggleable__content {max-height: 200px;max-width: 100%;overflow: auto;}#sk-container-id-1 input.sk-toggleable__control:checked~label.sk-toggleable__label-arrow:before {content: \"▾\";}#sk-container-id-1 div.sk-estimator input.sk-toggleable__control:checked~label.sk-toggleable__label {background-color: #d4ebff;}#sk-container-id-1 div.sk-label input.sk-toggleable__control:checked~label.sk-toggleable__label {background-color: #d4ebff;}#sk-container-id-1 input.sk-hidden--visually {border: 0;clip: rect(1px 1px 1px 1px);clip: rect(1px, 1px, 1px, 1px);height: 1px;margin: -1px;overflow: hidden;padding: 0;position: absolute;width: 1px;}#sk-container-id-1 div.sk-estimator {font-family: monospace;background-color: #f0f8ff;border: 1px dotted black;border-radius: 0.25em;box-sizing: border-box;margin-bottom: 0.5em;}#sk-container-id-1 div.sk-estimator:hover {background-color: #d4ebff;}#sk-container-id-1 div.sk-parallel-item::after {content: \"\";width: 100%;border-bottom: 1px solid gray;flex-grow: 1;}#sk-container-id-1 div.sk-label:hover label.sk-toggleable__label {background-color: #d4ebff;}#sk-container-id-1 div.sk-serial::before {content: \"\";position: absolute;border-left: 1px solid gray;box-sizing: border-box;top: 0;bottom: 0;left: 50%;z-index: 0;}#sk-container-id-1 div.sk-serial {display: flex;flex-direction: column;align-items: center;background-color: white;padding-right: 0.2em;padding-left: 0.2em;position: relative;}#sk-container-id-1 div.sk-item {position: relative;z-index: 1;}#sk-container-id-1 div.sk-parallel {display: flex;align-items: stretch;justify-content: center;background-color: white;position: relative;}#sk-container-id-1 div.sk-item::before, #sk-container-id-1 div.sk-parallel-item::before {content: \"\";position: absolute;border-left: 1px solid gray;box-sizing: border-box;top: 0;bottom: 0;left: 50%;z-index: -1;}#sk-container-id-1 div.sk-parallel-item {display: flex;flex-direction: column;z-index: 1;position: relative;background-color: white;}#sk-container-id-1 div.sk-parallel-item:first-child::after {align-self: flex-end;width: 50%;}#sk-container-id-1 div.sk-parallel-item:last-child::after {align-self: flex-start;width: 50%;}#sk-container-id-1 div.sk-parallel-item:only-child::after {width: 0;}#sk-container-id-1 div.sk-dashed-wrapped {border: 1px dashed gray;margin: 0 0.4em 0.5em 0.4em;box-sizing: border-box;padding-bottom: 0.4em;background-color: white;}#sk-container-id-1 div.sk-label label {font-family: monospace;font-weight: bold;display: inline-block;line-height: 1.2em;}#sk-container-id-1 div.sk-label-container {text-align: center;}#sk-container-id-1 div.sk-container {/* jupyter's `normalize.less` sets `[hidden] { display: none; }` but bootstrap.min.css set `[hidden] { display: none !important; }` so we also need the `!important` here to be able to override the default hidden behavior on the sphinx rendered scikit-learn.org. See: https://github.com/scikit-learn/scikit-learn/issues/21755 */display: inline-block !important;position: relative;}#sk-container-id-1 div.sk-text-repr-fallback {display: none;}</style><div id=\"sk-container-id-1\" class=\"sk-top-container\"><div class=\"sk-text-repr-fallback\"><pre>LogisticRegression()</pre><b>In a Jupyter environment, please rerun this cell to show the HTML representation or trust the notebook. <br />On GitHub, the HTML representation is unable to render, please try loading this page with nbviewer.org.</b></div><div class=\"sk-container\" hidden><div class=\"sk-item\"><div class=\"sk-estimator sk-toggleable\"><input class=\"sk-toggleable__control sk-hidden--visually\" id=\"sk-estimator-id-1\" type=\"checkbox\" checked><label for=\"sk-estimator-id-1\" class=\"sk-toggleable__label sk-toggleable__label-arrow\">LogisticRegression</label><div class=\"sk-toggleable__content\"><pre>LogisticRegression()</pre></div></div></div></div></div>"
      ],
      "text/plain": [
       "LogisticRegression()"
      ]
     },
     "execution_count": 96,
     "metadata": {},
     "output_type": "execute_result"
    }
   ],
   "source": [
    "model.fit(X_train, y_train)"
   ]
  },
  {
   "cell_type": "code",
   "execution_count": 99,
   "metadata": {},
   "outputs": [
    {
     "data": {
      "text/plain": [
       "array([0.72143634, 0.7203482 , 0.7203482 , 0.7203482 , 0.7203482 ])"
      ]
     },
     "execution_count": 99,
     "metadata": {},
     "output_type": "execute_result"
    }
   ],
   "source": [
    "crossvalscores = cross_val_score(model, X_test, y_test)\n",
    "crossvalscores"
   ]
  },
  {
   "cell_type": "code",
   "execution_count": 100,
   "metadata": {},
   "outputs": [
    {
     "data": {
      "text/plain": [
       "(0.7205658324265507, 0.0004352557127312196)"
      ]
     },
     "execution_count": 100,
     "metadata": {},
     "output_type": "execute_result"
    }
   ],
   "source": [
    "crossvalscores.mean(), crossvalscores.std()"
   ]
  }
 ],
 "metadata": {
  "kernelspec": {
   "display_name": "Python 3",
   "language": "python",
   "name": "python3"
  },
  "language_info": {
   "codemirror_mode": {
    "name": "ipython",
    "version": 3
   },
   "file_extension": ".py",
   "mimetype": "text/x-python",
   "name": "python",
   "nbconvert_exporter": "python",
   "pygments_lexer": "ipython3",
   "version": "3.11.2"
  }
 },
 "nbformat": 4,
 "nbformat_minor": 2
}
